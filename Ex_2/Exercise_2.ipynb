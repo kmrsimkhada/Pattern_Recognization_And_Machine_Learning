{
 "cells": [
  {
   "cell_type": "markdown",
   "metadata": {},
   "source": [
    "### Exercise 2\n",
    "#### Pattern Recognization and Machine Learning\n"
   ]
  },
  {
   "cell_type": "markdown",
   "metadata": {},
   "source": [
    "#### Task 4"
   ]
  },
  {
   "cell_type": "code",
   "execution_count": 1,
   "metadata": {},
   "outputs": [],
   "source": [
    "import numpy as np\n",
    "import matplotlib.pyplot as plt"
   ]
  },
  {
   "cell_type": "markdown",
   "metadata": {},
   "source": [
    "a) Create a vector of zero and sinusoidal components that looks like the plot\n",
    "below. Commands: np.zeros, np.concatenate. Sinusoid is generated\n",
    "by np.cos(2 * np.pi * 0.1 * n)."
   ]
  },
  {
   "cell_type": "code",
   "execution_count": 2,
   "metadata": {},
   "outputs": [],
   "source": [
    "a = np.zeros(500);\n",
    "n= np.arange(100);\n",
    "b = np.cos(2 * np.pi * 0.1 * n);\n",
    "c = np.zeros(300)\n",
    "\n",
    "y = np.concatenate((a,b,c));\n"
   ]
  },
  {
   "cell_type": "markdown",
   "metadata": {},
   "source": [
    "b) Create a noisy version of the signal by adding Gaussian noise with variance\n",
    "0.5: y_n = y + np.sqrt(0.5) * np.random.randn(y.size)."
   ]
  },
  {
   "cell_type": "code",
   "execution_count": 3,
   "metadata": {},
   "outputs": [],
   "source": [
    "y_n = y + np.sqrt(0.5) * np.random.randn(y.size);"
   ]
  },
  {
   "cell_type": "markdown",
   "metadata": {},
   "source": [
    "c) Implement the deterministic sinusoid detector"
   ]
  },
  {
   "cell_type": "code",
   "execution_count": 4,
   "metadata": {},
   "outputs": [],
   "source": [
    "ds = np.exp(-2 * np.pi * 1j * 0.1 * n);"
   ]
  },
  {
   "cell_type": "markdown",
   "metadata": {},
   "source": [
    "d) Implement the random signal version (slide 24 of slideset 3)."
   ]
  },
  {
   "cell_type": "code",
   "execution_count": 5,
   "metadata": {},
   "outputs": [],
   "source": [
    "rn =  np.abs(np.convolve(ds, y_n, 'same'));\n",
    "rn1 =  np.convolve(b, y_n, 'same');\n"
   ]
  }
 ],
 "metadata": {
  "kernelspec": {
   "display_name": "Python 3",
   "language": "python",
   "name": "python3"
  },
  "language_info": {
   "codemirror_mode": {
    "name": "ipython",
    "version": 3
   },
   "file_extension": ".py",
   "mimetype": "text/x-python",
   "name": "python",
   "nbconvert_exporter": "python",
   "pygments_lexer": "ipython3",
   "version": "3.7.0"
  }
 },
 "nbformat": 4,
 "nbformat_minor": 2
}
